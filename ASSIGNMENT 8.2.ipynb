{
 "cells": [
  {
   "cell_type": "code",
   "execution_count": 1,
   "id": "1cb94c0c",
   "metadata": {},
   "outputs": [
    {
     "name": "stdout",
     "output_type": "stream",
     "text": [
      "_\n",
      "_\n",
      "_\n",
      "_\n",
      "guess another characterz\n",
      "wrong guess\n",
      "guesses left 5\n",
      "_\n",
      "_\n",
      "_\n",
      "_\n",
      "guess another charactery\n",
      "wrong guess\n",
      "guesses left 4\n",
      "_\n",
      "_\n",
      "_\n",
      "_\n",
      "guess another charactere\n",
      "wrong guess\n",
      "guesses left 3\n",
      "_\n",
      "_\n",
      "_\n",
      "_\n",
      "guess another characterc\n",
      "wrong guess\n",
      "guesses left 2\n",
      "_\n",
      "_\n",
      "_\n",
      "_\n",
      "guess another characterg\n",
      "wrong guess\n",
      "guesses left 1\n",
      "_\n",
      "_\n",
      "_\n",
      "_\n",
      "guess another characterw\n",
      "wrong guess\n",
      "guesses left 0\n",
      "you loose\n"
     ]
    }
   ],
   "source": [
    "import random\n",
    "a=[]\n",
    "with open('ww.txt', 'r') as f:\n",
    "    for line in f:\n",
    "        c=line[:-1]\n",
    "        a.append(c)\n",
    "a1=random.choice(a)\n",
    "f=0\n",
    "t=6\n",
    "gs=\"\"\n",
    "while(t>0):\n",
    "    f=0\n",
    "    for i in a1:\n",
    "        if i in gs:\n",
    "            print(i)\n",
    "        else:\n",
    "            print('_')\n",
    "            f+=1\n",
    "            \n",
    "    if (f==0):\n",
    "        print('YOU WON')\n",
    "        break\n",
    "    g=input('guess another character')\n",
    "    gs+=g\n",
    "    if g not in a1:\n",
    "        t-=1\n",
    "        print('wrong guess')\n",
    "        print('guesses left',t)\n",
    "        \n",
    "        if(t==0):\n",
    "            print('you loose')      "
   ]
  },
  {
   "cell_type": "code",
   "execution_count": null,
   "id": "94e2a4cc",
   "metadata": {},
   "outputs": [],
   "source": []
  }
 ],
 "metadata": {
  "kernelspec": {
   "display_name": "Python 3",
   "language": "python",
   "name": "python3"
  },
  "language_info": {
   "codemirror_mode": {
    "name": "ipython",
    "version": 3
   },
   "file_extension": ".py",
   "mimetype": "text/x-python",
   "name": "python",
   "nbconvert_exporter": "python",
   "pygments_lexer": "ipython3",
   "version": "3.8.10"
  }
 },
 "nbformat": 4,
 "nbformat_minor": 5
}
