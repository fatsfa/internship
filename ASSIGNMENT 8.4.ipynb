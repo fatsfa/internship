{
 "cells": [
  {
   "cell_type": "code",
   "execution_count": 19,
   "id": "6d04dbfb",
   "metadata": {},
   "outputs": [
    {
     "name": "stdout",
     "output_type": "stream",
     "text": [
      "[9, 6]\n",
      "[6, 12]\n",
      "[7, 7]\n",
      "[0, 5]\n",
      "[8, 12]\n",
      "[18, 5]\n"
     ]
    }
   ],
   "source": [
    "a =[(1,-2), (-2, 4), (-1,-1),(-8, -3), (0, 4), (10,-3)]\n",
    "m1= min(a)[0]\n",
    "m2=min(a)[1]\n",
    "r=min(m1,m2)\n",
    "b=[]\n",
    "for x in a:\n",
    "    b=list(x)\n",
    "    b[0]=x[0]-r\n",
    "    b[1]-=r\n",
    "    print(b)"
   ]
  },
  {
   "cell_type": "code",
   "execution_count": null,
   "id": "ab8fe869",
   "metadata": {},
   "outputs": [],
   "source": []
  }
 ],
 "metadata": {
  "kernelspec": {
   "display_name": "Python 3",
   "language": "python",
   "name": "python3"
  },
  "language_info": {
   "codemirror_mode": {
    "name": "ipython",
    "version": 3
   },
   "file_extension": ".py",
   "mimetype": "text/x-python",
   "name": "python",
   "nbconvert_exporter": "python",
   "pygments_lexer": "ipython3",
   "version": "3.8.10"
  }
 },
 "nbformat": 4,
 "nbformat_minor": 5
}
